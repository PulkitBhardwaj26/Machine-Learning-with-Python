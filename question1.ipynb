{
 "cells": [
  {
   "cell_type": "code",
   "execution_count": 2,
   "id": "549d33cf-8ef5-4d97-9a1b-752b23acb8ad",
   "metadata": {},
   "outputs": [
    {
     "ename": "ModuleNotFoundError",
     "evalue": "No module named 'numpy'",
     "output_type": "error",
     "traceback": [
      "\u001b[1;31m---------------------------------------------------------------------------\u001b[0m",
      "\u001b[1;31mModuleNotFoundError\u001b[0m                       Traceback (most recent call last)",
      "Cell \u001b[1;32mIn[2], line 1\u001b[0m\n\u001b[1;32m----> 1\u001b[0m \u001b[38;5;28;01mimport\u001b[39;00m \u001b[38;5;21;01mnumpy\u001b[39;00m \u001b[38;5;28;01mas\u001b[39;00m \u001b[38;5;21;01mnp\u001b[39;00m\n\u001b[0;32m      2\u001b[0m \u001b[38;5;28;01mimport\u001b[39;00m \u001b[38;5;21;01mpandas\u001b[39;00m \u001b[38;5;28;01mas\u001b[39;00m \u001b[38;5;21;01mpd\u001b[39;00m\n\u001b[0;32m      3\u001b[0m \u001b[38;5;28;01mimport\u001b[39;00m \u001b[38;5;21;01mmatplotlib\u001b[39;00m\u001b[38;5;21;01m.\u001b[39;00m\u001b[38;5;21;01mpyplot\u001b[39;00m \u001b[38;5;28;01mas\u001b[39;00m \u001b[38;5;21;01mplt\u001b[39;00m\n",
      "\u001b[1;31mModuleNotFoundError\u001b[0m: No module named 'numpy'"
     ]
    }
   ],
   "source": [
    "import numpy as np\n",
    "import pandas as pd\n",
    "import matplotlib.pyplot as plt\n",
    "from sklearn.linear_model import LinearRegression\n",
    "from sklearn.preprocessing import PolynomialFeatures\n",
    "from sklearn.pipeline import make_pipeline\n",
    "\n",
    "\n",
    "def generate_dataset(size=100):\n",
    "    np.random.seed(42)\n",
    "    X = 2 * np.random.rand(size, 1)\n",
    "    y = 4 + 3 * X + np.random.randn(size, 1)\n",
    "    return X, y\n",
    "\n",
    "\n",
    "def linear_regression_gradient_descent(X, y, learning_rate=0.01, n_iterations=1000):\n",
    "    m = len(X)\n",
    "    theta = np.random.randn(2, 1)\n",
    "\n",
    "    for iteration in range(n_iterations):\n",
    "        gradients = 2/m * X.T.dot(X.dot(theta) - y)\n",
    "        theta = theta - learning_rate * gradients\n",
    "\n",
    "    return theta\n",
    "\n",
    "def polynomial_regression_gradient_descent(X, y, degree, learning_rate=0.01, n_iterations=1000):\n",
    "    X_poly = np.c_[np.ones((len(X), 1)), X]\n",
    "    for d in range(2, degree + 1):\n",
    "        X_poly = np.c_[X_poly, X**d]\n",
    "\n",
    "    m = len(X_poly)\n",
    "    theta = np.random.randn(degree + 1, 1)\n",
    "\n",
    "    for iteration in range(n_iterations):\n",
    "        gradients = 2/m * X_poly.T.dot(X_poly.dot(theta) - y)\n",
    "        theta = theta - learning_rate * gradients\n",
    "\n",
    "    return X_poly, theta\n",
    "\n",
    "\n",
    "X, y = generate_dataset()\n",
    "\n",
    "\n",
    "X_linear = np.c_[np.ones((len(X), 1)), X]\n",
    "theta_linear = linear_regression_gradient_descent(X_linear, y)\n",
    "\n",
    "\n",
    "degree = 7\n",
    "X_poly, theta_poly = polynomial_regression_gradient_descent(X, y, degree)\n",
    "\n",
    "\n",
    "model_sklearn = LinearRegression()\n",
    "model_sklearn.fit(X, y)\n",
    "\n",
    "\n",
    "plt.scatter(X, y, label='Dataset')\n",
    "plt.plot(X, X_linear.dot(theta_linear), label='Linear Regression (Custom Loss)')\n",
    "plt.plot(X, X_poly.dot(theta_poly), label=f'Polynomial Regression (Degree {degree}, Custom Loss)')\n",
    "plt.plot(X, model_sklearn.predict(X), label='Linear Regression (scikit-learn)')\n",
    "plt.legend()\n",
    "plt.xlabel('X')\n",
    "plt.ylabel('y')\n",
    "plt.title('Linear and Polynomial Regression Models')\n",
    "plt.show()\n"
   ]
  },
  {
   "cell_type": "code",
   "execution_count": null,
   "id": "11bf11f5-12bf-4bd9-8b09-a45f8cb09256",
   "metadata": {},
   "outputs": [],
   "source": []
  }
 ],
 "metadata": {
  "kernelspec": {
   "display_name": "Python 3 (ipykernel)",
   "language": "python",
   "name": "python3"
  },
  "language_info": {
   "codemirror_mode": {
    "name": "ipython",
    "version": 3
   },
   "file_extension": ".py",
   "mimetype": "text/x-python",
   "name": "python",
   "nbconvert_exporter": "python",
   "pygments_lexer": "ipython3",
   "version": "3.11.5"
  }
 },
 "nbformat": 4,
 "nbformat_minor": 5
}
